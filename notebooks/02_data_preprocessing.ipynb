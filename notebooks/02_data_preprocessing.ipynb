{
 "cells": [
  {
   "cell_type": "code",
   "execution_count": 1,
   "metadata": {},
   "outputs": [
    {
     "name": "stderr",
     "output_type": "stream",
     "text": [
      "2025-04-09 20:45:03,068 - src.data.preprocessor - INFO - Downloading necessary NLTK resources...\n",
      "[nltk_data] Downloading package punkt to /home/david/nltk_data...\n",
      "[nltk_data]   Package punkt is already up-to-date!\n",
      "[nltk_data] Downloading package stopwords to /home/david/nltk_data...\n",
      "[nltk_data]   Package stopwords is already up-to-date!\n",
      "[nltk_data] Downloading package wordnet to /home/david/nltk_data...\n",
      "[nltk_data]   Package wordnet is already up-to-date!\n"
     ]
    }
   ],
   "source": [
    "# Data Preprocessing for Yelp Reviews Sentiment Analysis\n",
    "\n",
    "import sys\n",
    "import os\n",
    "# Add the src directory to path for importing modules\n",
    "sys.path.append('..')\n",
    "\n",
    "import pandas as pd\n",
    "import numpy as np\n",
    "import matplotlib.pyplot as plt\n",
    "import seaborn as sns\n",
    "from tqdm import tqdm\n",
    "import torch\n",
    "from nltk.tokenize import word_tokenize\n",
    "import pickle\n",
    "import logging\n",
    "\n",
    "# Import our custom modules\n",
    "from src.data.data_loader import YelpDataLoader\n",
    "from src.data.preprocessor import TextPreprocessor, LSTMPreprocessor, DistilBERTPreprocessor\n",
    "from transformers import DistilBertTokenizer\n",
    "from src.config import (\n",
    "    PROCESSED_TRAIN_PATH, PROCESSED_TEST_PATH, \n",
    "    EMBEDDINGS_DIR, LSTM_CONFIG, DISTILBERT_CONFIG\n",
    ")"
   ]
  },
  {
   "cell_type": "code",
   "execution_count": 2,
   "metadata": {},
   "outputs": [],
   "source": [
    "# Set up logging\n",
    "logging.basicConfig(level=logging.INFO, format='%(asctime)s - %(name)s - %(levelname)s - %(message)s')\n",
    "logger = logging.getLogger()\n",
    "\n",
    "# Enable progress bars for DataFrames\n",
    "tqdm.pandas()\n",
    "\n",
    "# Set up plotting style\n",
    "plt.style.use('ggplot')\n",
    "sns.set(font_scale=1.2)\n",
    "sns.set_style(\"whitegrid\")\n",
    "\n",
    "# Create directories if they don't exist\n",
    "os.makedirs(EMBEDDINGS_DIR, exist_ok=True)"
   ]
  },
  {
   "cell_type": "code",
   "execution_count": 3,
   "metadata": {},
   "outputs": [
    {
     "name": "stderr",
     "output_type": "stream",
     "text": [
      "2025-04-09 20:45:03,186 - src.data.data_loader - INFO - Loading processed data from local files...\n"
     ]
    },
    {
     "name": "stdout",
     "output_type": "stream",
     "text": [
      "Loading processed data...\n",
      "Train set shape: (650000, 5)\n",
      "Test set shape: (50000, 3)\n",
      "\n",
      "Sentiment distribution in train set:\n",
      "sentiment\n",
      "0    260000\n",
      "1    130000\n",
      "2    260000\n",
      "Name: count, dtype: int64\n",
      "\n",
      "Sentiment distribution in test set:\n",
      "sentiment\n",
      "0    20000\n",
      "1    10000\n",
      "2    20000\n",
      "Name: count, dtype: int64\n"
     ]
    }
   ],
   "source": [
    "# 1. Load the data\n",
    "print(\"Loading processed data...\")\n",
    "data_loader = YelpDataLoader()\n",
    "train_df, test_df = data_loader.load_processed_data()\n",
    "\n",
    "print(f\"Train set shape: {train_df.shape}\")\n",
    "print(f\"Test set shape: {test_df.shape}\")\n",
    "\n",
    "# Show distribution of sentiment labels\n",
    "print(\"\\nSentiment distribution in train set:\")\n",
    "print(train_df['sentiment'].value_counts().sort_index())\n",
    "\n",
    "print(\"\\nSentiment distribution in test set:\")\n",
    "print(test_df['sentiment'].value_counts().sort_index())"
   ]
  },
  {
   "cell_type": "code",
   "execution_count": 4,
   "metadata": {},
   "outputs": [
    {
     "name": "stdout",
     "output_type": "stream",
     "text": [
      "\n",
      "--- Basic Text Preprocessing Analysis ---\n",
      "Preprocessing a sample of reviews...\n"
     ]
    },
    {
     "name": "stderr",
     "output_type": "stream",
     "text": [
      "100%|██████████| 10000/10000 [00:05<00:00, 1932.59it/s]\n"
     ]
    },
    {
     "name": "stdout",
     "output_type": "stream",
     "text": [
      "\n",
      "Token count statistics after preprocessing:\n",
      "count    10000.000000\n",
      "mean        68.073100\n",
      "std         62.379157\n",
      "min          1.000000\n",
      "25%         27.000000\n",
      "50%         50.000000\n",
      "75%         88.000000\n",
      "max        483.000000\n",
      "Name: token_count, dtype: float64\n",
      "\n",
      "Example of preprocessed text:\n",
      "Original: First of all i'm not a big fan of buffet, i tried it because we got a $50 credit for staying here at Monte Carlo in Las Vegas and my friend wanted it so I gave it a chance. Decent taste and There wasn...\n",
      "Tokenized: ['first', 'im', 'big', 'fan', 'buffet', 'tried', 'got', '50', 'credit', 'staying', 'monte', 'carlo', 'la', 'vega', 'friend', 'wanted', 'gave', 'chance', 'decent', 'taste', 'wasnt', 'enough', 'variety', 'food', 'service', 'wasnt', 'great', 'either', 'still', 'doesnt']...\n"
     ]
    }
   ],
   "source": [
    "# 2. Basic text preprocessing and analysis\n",
    "print(\"\\n--- Basic Text Preprocessing Analysis ---\")\n",
    "\n",
    "# Initialize basic preprocessor for analysis\n",
    "basic_preprocessor = TextPreprocessor(remove_stopwords=True, lemmatize=True)\n",
    "\n",
    "# Sample a subset for analysis\n",
    "sample_size = 10000  # Using a subset for faster analysis\n",
    "train_sample = train_df.sample(sample_size, random_state=42)\n",
    "\n",
    "# Apply basic preprocessing to a sample\n",
    "print(\"Preprocessing a sample of reviews...\")\n",
    "train_sample['cleaned_tokens'] = train_sample['text'].progress_apply(basic_preprocessor.tokenize)\n",
    "\n",
    "# Calculate statistics\n",
    "train_sample['token_count'] = train_sample['cleaned_tokens'].apply(len)\n",
    "\n",
    "# Print statistics about token counts\n",
    "print(\"\\nToken count statistics after preprocessing:\")\n",
    "print(train_sample['token_count'].describe())\n",
    "\n",
    "# Show example of preprocessed text\n",
    "print(\"\\nExample of preprocessed text:\")\n",
    "example_idx = 0\n",
    "print(f\"Original: {train_sample.iloc[example_idx]['text'][:200]}...\")\n",
    "print(f\"Tokenized: {train_sample.iloc[example_idx]['cleaned_tokens'][:30]}...\")\n"
   ]
  },
  {
   "cell_type": "code",
   "execution_count": 5,
   "metadata": {},
   "outputs": [
    {
     "data": {
      "image/png": "[encoded data removed]",
      "text/plain": [
       "<Figure size 1000x600 with 1 Axes>"
      ]
     },
     "metadata": {},
     "output_type": "display_data"
    }
   ],
   "source": [
    "# Plot distribution of token counts\n",
    "plt.figure(figsize=(10, 6))\n",
    "sns.histplot(data=train_sample, x='token_count', bins=50, hue='sentiment', element='step')\n",
    "plt.title('Token Count Distribution After Preprocessing')\n",
    "plt.xlabel('Token Count')\n",
    "plt.ylabel('Count')\n",
    "plt.xlim(0, 300)  # Focus on main distribution\n",
    "plt.show()"
   ]
  },
  {
   "cell_type": "code",
   "execution_count": 6,
   "metadata": {},
   "outputs": [
    {
     "name": "stdout",
     "output_type": "stream",
     "text": [
      "\n",
      "--- LSTM Preprocessing ---\n",
      "Tokenizing sample texts for LSTM...\n"
     ]
    },
    {
     "name": "stderr",
     "output_type": "stream",
     "text": [
      "  0%|          | 0/1000 [00:00<?, ?it/s]"
     ]
    },
    {
     "name": "stderr",
     "output_type": "stream",
     "text": [
      "100%|██████████| 1000/1000 [00:00<00:00, 2177.09it/s]\n",
      "2025-04-09 20:45:10,653 - src.data.preprocessor - INFO - Building vocabulary...\n",
      "2025-04-09 20:45:10,664 - src.data.preprocessor - INFO - Vocabulary built with 10716 words\n"
     ]
    },
    {
     "name": "stdout",
     "output_type": "stream",
     "text": [
      "Building vocabulary from sample...\n",
      "Vocabulary size: 10716\n",
      "First 10 words in vocabulary: [('<PAD>', 0), ('<UNK>', 1), ('the', 2), ('and', 3), ('to', 4), ('wa', 5), ('it', 6), ('of', 7), ('for', 8), ('in', 9)]\n",
      "Converting tokens to sequences...\n",
      "Padding sequences...\n",
      "Shape of padded sequences: (1000, 512)\n"
     ]
    }
   ],
   "source": [
    "# 3. LSTM-specific preprocessing\n",
    "print(\"\\n--- LSTM Preprocessing ---\")\n",
    "\n",
    "# Initialize LSTM preprocessor\n",
    "lstm_preprocessor = LSTMPreprocessor(\n",
    "    max_vocab_size=LSTM_CONFIG['max_vocab_size'],\n",
    "    max_sequence_length=LSTM_CONFIG['max_sequence_length'],\n",
    "    remove_stopwords=True, \n",
    "    lemmatize=True\n",
    ")\n",
    "\n",
    "# Process a small sample for demonstration\n",
    "sample_size = 1000  # Small sample for demonstration\n",
    "train_mini = train_df.sample(sample_size, random_state=42)\n",
    "\n",
    "print(\"Tokenizing sample texts for LSTM...\")\n",
    "tokenized_texts = [lstm_preprocessor.tokenize(text) for text in tqdm(train_mini['text'])]\n",
    "\n",
    "print(\"Building vocabulary from sample...\")\n",
    "word_to_idx = lstm_preprocessor.fit(tokenized_texts)\n",
    "\n",
    "print(f\"Vocabulary size: {lstm_preprocessor.vocab_size}\")\n",
    "print(f\"First 10 words in vocabulary: {list(word_to_idx.items())[:10]}\")\n",
    "\n",
    "# Convert tokens to sequences\n",
    "print(\"Converting tokens to sequences...\")\n",
    "sequences = lstm_preprocessor.texts_to_sequences(tokenized_texts)\n",
    "\n",
    "# Pad sequences\n",
    "print(\"Padding sequences...\")\n",
    "padded_sequences = lstm_preprocessor.pad_sequences(sequences)\n",
    "\n",
    "print(f\"Shape of padded sequences: {padded_sequences.shape}\")\n"
   ]
  },
  {
   "cell_type": "code",
   "execution_count": 7,
   "metadata": {},
   "outputs": [
    {
     "name": "stdout",
     "output_type": "stream",
     "text": [
      "\n",
      "--- DistilBERT Preprocessing ---\n",
      "Initializing DistilBERT tokenizer: distilbert-base-uncased\n"
     ]
    },
    {
     "name": "stderr",
     "output_type": "stream",
     "text": [
      "2025-04-09 20:45:11,918 - src.data.preprocessor - INFO - Initialized DistilBERT preprocessor with distilbert-base-uncased tokenizer\n",
      "2025-04-09 20:45:11,950 - root - INFO - DistilBERT preprocessing completed successfully\n"
     ]
    },
    {
     "name": "stdout",
     "output_type": "stream",
     "text": [
      "Preprocessing sample texts for DistilBERT...\n",
      "\n",
      "Processed outputs shape:\n",
      "Input IDs tensor shape: torch.Size([5, 512])\n",
      "Attention masks tensor shape: torch.Size([5, 512])\n",
      "\n",
      "Example of processed input:\n",
      "Original text:\n",
      "First of all i'm not a big fan of buffet, i tried it because we got a $50 credit for staying here at Monte Carlo in Las Vegas and my friend wanted it so I gave it a chance. Decent taste and There wasn't enough variety of food, service wasn't that great either. so it still doesn't change my mind about buffet.\n",
      "\n",
      "Tokenized input IDs:\n",
      "tensor([  101,  2034,  1997,  2035,  1045,  1005,  1049,  2025,  1037,  2502,\n",
      "         5470,  1997, 28305,  1010,  1045,  2699,  2009,  2138,  2057,  2288,\n",
      "         1037,  1002,  2753,  4923,  2005,  6595,  2182,  2012, 10125,  9758,\n",
      "         1999,  5869,  7136,  1998,  2026,  2767,  2359,  2009,  2061,  1045,\n",
      "         2435,  2009,  1037,  3382,  1012, 11519,  5510,  1998,  2045,  2347,\n",
      "         1005,  1056,  2438,  3528,  1997,  2833,  1010,  2326,  2347,  1005,\n",
      "         1056,  2008,  2307,  2593,  1012,  2061,  2009,  2145,  2987,  1005,\n",
      "         1056,  2689,  2026,  2568,  2055, 28305,  1012,   102,     0,     0,\n",
      "            0,     0,     0,     0,     0,     0,     0,     0,     0,     0,\n",
      "            0,     0,     0,     0,     0,     0,     0,     0,     0,     0,\n",
      "            0,     0,     0,     0,     0,     0,     0,     0,     0,     0,\n",
      "            0,     0,     0,     0,     0,     0,     0,     0,     0,     0,\n",
      "            0,     0,     0,     0,     0,     0,     0,     0,     0,     0,\n",
      "            0,     0,     0,     0,     0,     0,     0,     0,     0,     0,\n",
      "            0,     0,     0,     0,     0,     0,     0,     0,     0,     0,\n",
      "            0,     0,     0,     0,     0,     0,     0,     0,     0,     0,\n",
      "            0,     0,     0,     0,     0,     0,     0,     0,     0,     0,\n",
      "            0,     0,     0,     0,     0,     0,     0,     0,     0,     0,\n",
      "            0,     0,     0,     0,     0,     0,     0,     0,     0,     0,\n",
      "            0,     0,     0,     0,     0,     0,     0,     0,     0,     0,\n",
      "            0,     0,     0,     0,     0,     0,     0,     0,     0,     0,\n",
      "            0,     0,     0,     0,     0,     0,     0,     0,     0,     0,\n",
      "            0,     0,     0,     0,     0,     0,     0,     0,     0,     0,\n",
      "            0,     0,     0,     0,     0,     0,     0,     0,     0,     0,\n",
      "            0,     0,     0,     0,     0,     0,     0,     0,     0,     0,\n",
      "            0,     0,     0,     0,     0,     0,     0,     0,     0,     0,\n",
      "            0,     0,     0,     0,     0,     0,     0,     0,     0,     0,\n",
      "            0,     0,     0,     0,     0,     0,     0,     0,     0,     0,\n",
      "            0,     0,     0,     0,     0,     0,     0,     0,     0,     0,\n",
      "            0,     0,     0,     0,     0,     0,     0,     0,     0,     0,\n",
      "            0,     0,     0,     0,     0,     0,     0,     0,     0,     0,\n",
      "            0,     0,     0,     0,     0,     0,     0,     0,     0,     0,\n",
      "            0,     0,     0,     0,     0,     0,     0,     0,     0,     0,\n",
      "            0,     0,     0,     0,     0,     0,     0,     0,     0,     0,\n",
      "            0,     0,     0,     0,     0,     0,     0,     0,     0,     0,\n",
      "            0,     0,     0,     0,     0,     0,     0,     0,     0,     0,\n",
      "            0,     0,     0,     0,     0,     0,     0,     0,     0,     0,\n",
      "            0,     0,     0,     0,     0,     0,     0,     0,     0,     0,\n",
      "            0,     0,     0,     0,     0,     0,     0,     0,     0,     0,\n",
      "            0,     0,     0,     0,     0,     0,     0,     0,     0,     0,\n",
      "            0,     0,     0,     0,     0,     0,     0,     0,     0,     0,\n",
      "            0,     0,     0,     0,     0,     0,     0,     0,     0,     0,\n",
      "            0,     0,     0,     0,     0,     0,     0,     0,     0,     0,\n",
      "            0,     0,     0,     0,     0,     0,     0,     0,     0,     0,\n",
      "            0,     0,     0,     0,     0,     0,     0,     0,     0,     0,\n",
      "            0,     0,     0,     0,     0,     0,     0,     0,     0,     0,\n",
      "            0,     0,     0,     0,     0,     0,     0,     0,     0,     0,\n",
      "            0,     0,     0,     0,     0,     0,     0,     0,     0,     0,\n",
      "            0,     0,     0,     0,     0,     0,     0,     0,     0,     0,\n",
      "            0,     0,     0,     0,     0,     0,     0,     0,     0,     0,\n",
      "            0,     0,     0,     0,     0,     0,     0,     0,     0,     0,\n",
      "            0,     0])\n",
      "Attention mask:\n",
      "tensor([1, 1, 1, 1, 1, 1, 1, 1, 1, 1, 1, 1, 1, 1, 1, 1, 1, 1, 1, 1, 1, 1, 1, 1,\n",
      "        1, 1, 1, 1, 1, 1, 1, 1, 1, 1, 1, 1, 1, 1, 1, 1, 1, 1, 1, 1, 1, 1, 1, 1,\n",
      "        1, 1, 1, 1, 1, 1, 1, 1, 1, 1, 1, 1, 1, 1, 1, 1, 1, 1, 1, 1, 1, 1, 1, 1,\n",
      "        1, 1, 1, 1, 1, 1, 0, 0, 0, 0, 0, 0, 0, 0, 0, 0, 0, 0, 0, 0, 0, 0, 0, 0,\n",
      "        0, 0, 0, 0, 0, 0, 0, 0, 0, 0, 0, 0, 0, 0, 0, 0, 0, 0, 0, 0, 0, 0, 0, 0,\n",
      "        0, 0, 0, 0, 0, 0, 0, 0, 0, 0, 0, 0, 0, 0, 0, 0, 0, 0, 0, 0, 0, 0, 0, 0,\n",
      "        0, 0, 0, 0, 0, 0, 0, 0, 0, 0, 0, 0, 0, 0, 0, 0, 0, 0, 0, 0, 0, 0, 0, 0,\n",
      "        0, 0, 0, 0, 0, 0, 0, 0, 0, 0, 0, 0, 0, 0, 0, 0, 0, 0, 0, 0, 0, 0, 0, 0,\n",
      "        0, 0, 0, 0, 0, 0, 0, 0, 0, 0, 0, 0, 0, 0, 0, 0, 0, 0, 0, 0, 0, 0, 0, 0,\n",
      "        0, 0, 0, 0, 0, 0, 0, 0, 0, 0, 0, 0, 0, 0, 0, 0, 0, 0, 0, 0, 0, 0, 0, 0,\n",
      "        0, 0, 0, 0, 0, 0, 0, 0, 0, 0, 0, 0, 0, 0, 0, 0, 0, 0, 0, 0, 0, 0, 0, 0,\n",
      "        0, 0, 0, 0, 0, 0, 0, 0, 0, 0, 0, 0, 0, 0, 0, 0, 0, 0, 0, 0, 0, 0, 0, 0,\n",
      "        0, 0, 0, 0, 0, 0, 0, 0, 0, 0, 0, 0, 0, 0, 0, 0, 0, 0, 0, 0, 0, 0, 0, 0,\n",
      "        0, 0, 0, 0, 0, 0, 0, 0, 0, 0, 0, 0, 0, 0, 0, 0, 0, 0, 0, 0, 0, 0, 0, 0,\n",
      "        0, 0, 0, 0, 0, 0, 0, 0, 0, 0, 0, 0, 0, 0, 0, 0, 0, 0, 0, 0, 0, 0, 0, 0,\n",
      "        0, 0, 0, 0, 0, 0, 0, 0, 0, 0, 0, 0, 0, 0, 0, 0, 0, 0, 0, 0, 0, 0, 0, 0,\n",
      "        0, 0, 0, 0, 0, 0, 0, 0, 0, 0, 0, 0, 0, 0, 0, 0, 0, 0, 0, 0, 0, 0, 0, 0,\n",
      "        0, 0, 0, 0, 0, 0, 0, 0, 0, 0, 0, 0, 0, 0, 0, 0, 0, 0, 0, 0, 0, 0, 0, 0,\n",
      "        0, 0, 0, 0, 0, 0, 0, 0, 0, 0, 0, 0, 0, 0, 0, 0, 0, 0, 0, 0, 0, 0, 0, 0,\n",
      "        0, 0, 0, 0, 0, 0, 0, 0, 0, 0, 0, 0, 0, 0, 0, 0, 0, 0, 0, 0, 0, 0, 0, 0,\n",
      "        0, 0, 0, 0, 0, 0, 0, 0, 0, 0, 0, 0, 0, 0, 0, 0, 0, 0, 0, 0, 0, 0, 0, 0,\n",
      "        0, 0, 0, 0, 0, 0, 0, 0])\n",
      "\n",
      "Sequence length distribution:\n",
      "count      5.0000\n",
      "mean     160.2000\n",
      "std       99.1398\n",
      "min       55.0000\n",
      "25%       78.0000\n",
      "50%      143.0000\n",
      "75%      251.0000\n",
      "max      274.0000\n",
      "dtype: float64\n"
     ]
    }
   ],
   "source": [
    "# 5. DistilBERT-specific preprocessing\n",
    "print(\"\\n--- DistilBERT Preprocessing ---\")\n",
    "\n",
    "# Initialize tokenizer\n",
    "print(\n",
    "    f\"Initializing DistilBERT tokenizer: {DISTILBERT_CONFIG['pretrained_model_name']}\"\n",
    ")\n",
    "tokenizer = DistilBertTokenizer.from_pretrained(\n",
    "    DISTILBERT_CONFIG[\"pretrained_model_name\"]\n",
    ")\n",
    "\n",
    "# Initialize DistilBERT preprocessor\n",
    "distilbert_preprocessor = DistilBERTPreprocessor(tokenizer,\n",
    "    pretrained_model_name=DISTILBERT_CONFIG['pretrained_model_name'],\n",
    "    max_sequence_length=DISTILBERT_CONFIG['max_sequence_length']\n",
    ")\n",
    "\n",
    "# Process a small sample for demonstration\n",
    "sample_size = 5  # Very small for demonstration\n",
    "train_mini = train_df.sample(sample_size, random_state=42)\n",
    "\n",
    "print(\"Preprocessing sample texts for DistilBERT...\")\n",
    "# Preprocess the sample texts\n",
    "processed = distilbert_preprocessor.preprocess_for_distilbert(\n",
    "    texts=train_mini['text'].tolist(),\n",
    "    padding=True,\n",
    "    truncation=True\n",
    ")\n",
    "\n",
    "# Extract processed components\n",
    "input_ids = processed[\"input_ids\"]\n",
    "attention_masks = processed[\"attention_mask\"]\n",
    "\n",
    "# Print processing results\n",
    "print(f\"\\nProcessed outputs shape:\")\n",
    "print(f\"Input IDs tensor shape: {input_ids.shape}\")\n",
    "print(f\"Attention masks tensor shape: {attention_masks.shape}\")\n",
    "\n",
    "# Show input details\n",
    "print(\"\\nExample of processed input:\")\n",
    "sample_idx = 0\n",
    "print(f\"Original text:\\n{train_mini.iloc[sample_idx]['text']}\\n\")\n",
    "print(f\"Tokenized input IDs:\\n{input_ids[sample_idx]}\")\n",
    "print(f\"Attention mask:\\n{attention_masks[sample_idx]}\")\n",
    "\n",
    "# Additional analysis\n",
    "sequence_lengths = attention_masks.sum(dim=1).tolist()\n",
    "print(\"\\nSequence length distribution:\")\n",
    "print(pd.Series(sequence_lengths).describe())\n",
    "\n",
    "# Save processed sample for demonstration (optional)\n",
    "torch.save({\n",
    "    'input_ids': input_ids,\n",
    "    'attention_masks': attention_masks,\n",
    "    'labels': torch.tensor(train_mini['sentiment'].values)\n",
    "}, os.path.join(EMBEDDINGS_DIR, 'distilbert_processed_sample.pt'))\n",
    "\n",
    "logger.info(\"DistilBERT preprocessing completed successfully\")"
   ]
  }
 ],
 "metadata": {
  "kernelspec": {
   "display_name": "tf",
   "language": "python",
   "name": "python3"
  },
  "language_info": {
   "codemirror_mode": {
    "name": "ipython",
    "version": 3
   },
   "file_extension": ".py",
   "mimetype": "text/x-python",
   "name": "python",
   "nbconvert_exporter": "python",
   "pygments_lexer": "ipython3",
   "version": "3.9.21"
  }
 },
 "nbformat": 4,
 "nbformat_minor": 2
}
